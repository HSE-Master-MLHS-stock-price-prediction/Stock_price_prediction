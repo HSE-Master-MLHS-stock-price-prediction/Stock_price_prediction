{
 "cells": [
  {
   "cell_type": "code",
   "execution_count": null,
   "outputs": [],
   "source": [
    "import pandas as pd\n",
    "import numpy as np\n",
    "\n",
    "import yfinance as yf\n",
    "\n",
    "from sklearn.svm import LinearSVR\n",
    "from sklearn.model_selection import train_test_split\n",
    "from sklearn.metrics import mean_squared_error\n",
    "\n",
    "class Config:\n",
    "    OUTPUT_WINDOW_SIZE = 30\n",
    "    INPUT_WINDOW_SIZE = 60\n",
    "    RANDOM_STATE = 7575"
   ],
   "metadata": {
    "collapsed": false,
    "pycharm": {
     "name": "#%%\n"
    }
   }
  },
  {
   "cell_type": "code",
   "execution_count": null,
   "outputs": [],
   "source": [
    "yndx= yf.Ticker(\"yndx\")\n",
    "data = yndx.history(start=\"2011-05-24\", end=\"2016-12-31\", interval='1d').Close"
   ],
   "metadata": {
    "collapsed": false,
    "pycharm": {
     "name": "#%%\n"
    }
   }
  },
  {
   "cell_type": "code",
   "execution_count": null,
   "outputs": [],
   "source": [
    "def transform_to_DOIU(prices):\n",
    "    arr = pd.DataFrame(prices)[0].pct_change().to_numpy()[1:]\n",
    "    x = [1]\n",
    "    for el in arr:\n",
    "        x.append(x[-1]*(1+el))\n",
    "    return np.array(x)"
   ],
   "metadata": {
    "collapsed": false,
    "pycharm": {
     "name": "#%%\n"
    }
   }
  },
  {
   "cell_type": "code",
   "execution_count": null,
   "outputs": [],
   "source": [
    "def prepare_data(prices, output_window_size = Config.OUTPUT_WINDOW_SIZE,\n",
    "                 input_window_size = Config.INPUT_WINDOW_SIZE):\n",
    "    X = []\n",
    "    y = []\n",
    "    for i in range(0, len(prices)-output_window_size-input_window_size,\n",
    "                   output_window_size):\n",
    "\n",
    "        tr_x = transform_to_DOIU(prices[i:input_window_size+i\n",
    "                                        + output_window_size])\n",
    "        y.append(tr_x[-1].reshape(1, -1))\n",
    "        X.append(tr_x[:input_window_size].reshape(1,-1))\n",
    "\n",
    "    X = np.concatenate(X, axis=0)\n",
    "    y = np.concatenate(y, axis=0)\n",
    "    return X, y\n",
    "\n",
    "def train_model(model, X, y, validate=True, random_state=Config.RANDOM_STATE):\n",
    "    if validate:\n",
    "        X_train, X_test, y_train, y_test = train_test_split(X,\n",
    "                                                            y,\n",
    "                                                            random_state=random_state)\n",
    "    else:\n",
    "        X_train = X\n",
    "        y_train = y\n",
    "\n",
    "    model.fit(X_train, y_train)\n",
    "\n",
    "    if validate:\n",
    "        y_pred = model.predict(X_test)\n",
    "        return model, mean_squared_error(y_test, y_pred, squared=False)\n",
    "    else:\n",
    "        return model"
   ],
   "metadata": {
    "collapsed": false,
    "pycharm": {
     "name": "#%%\n"
    }
   }
  },
  {
   "cell_type": "code",
   "execution_count": null,
   "outputs": [],
   "source": [
    "X, y = prepare_data(data.values)\n",
    "model = LinearSVR(max_iter=10000)\n",
    "best_model, rmse = train_model(model, X, y.ravel())"
   ],
   "metadata": {
    "collapsed": false,
    "pycharm": {
     "name": "#%%\n"
    }
   }
  },
  {
   "cell_type": "code",
   "execution_count": null,
   "outputs": [],
   "source": [
    "rmse"
   ],
   "metadata": {
    "collapsed": false,
    "pycharm": {
     "name": "#%%\n"
    }
   }
  },
  {
   "cell_type": "code",
   "execution_count": null,
   "outputs": [],
   "source": [
    "import pickle\n",
    "with open('svr.pkl', 'wb') as fid:\n",
    "    pickle.dump(best_model, fid)"
   ],
   "metadata": {
    "collapsed": false,
    "pycharm": {
     "name": "#%%\n"
    }
   }
  },
  {
   "cell_type": "markdown",
   "source": [
    "## Creating predictions"
   ],
   "metadata": {
    "collapsed": false,
    "pycharm": {
     "name": "#%% md\n"
    }
   }
  },
  {
   "cell_type": "code",
   "execution_count": null,
   "outputs": [],
   "source": [
    "def transform_to_DOIU(prices):\n",
    "    arr = pd.DataFrame(prices)[0].pct_change().to_numpy()[1:]\n",
    "    x = [1]\n",
    "    for el in arr:\n",
    "        x.append(x[-1] * (1 + el))\n",
    "    return np.array(x)"
   ],
   "metadata": {
    "collapsed": false,
    "pycharm": {
     "name": "#%%\n"
    }
   }
  },
  {
   "cell_type": "code",
   "execution_count": null,
   "outputs": [],
   "source": [
    "def create_predictions(time_series, bin_path):\n",
    "    '''\n",
    "    :param time_series: np.ndarray\n",
    "    :param bin_path: str\n",
    "    :return: np.ndarray\n",
    "\n",
    "    Models are fit with 30 items window.\n",
    "    '''\n",
    "    time_series = transform_to_DOIU(time_series).reshape(1, -1)\n",
    "    with open(bin_path, 'rb') as fid:\n",
    "        model = pickle.load(fid)\n",
    "    return model.predict(time_series)"
   ],
   "metadata": {
    "collapsed": false,
    "pycharm": {
     "name": "#%%\n"
    }
   }
  },
  {
   "cell_type": "code",
   "execution_count": null,
   "outputs": [],
   "source": [
    "X_test = data.values[:60]"
   ],
   "metadata": {
    "collapsed": false,
    "pycharm": {
     "name": "#%%\n"
    }
   }
  },
  {
   "cell_type": "code",
   "execution_count": null,
   "outputs": [],
   "source": [
    "create_predictions(X_test, 'svr.pkl')"
   ],
   "metadata": {
    "collapsed": false,
    "pycharm": {
     "name": "#%%\n"
    }
   }
  }
 ],
 "metadata": {
  "kernelspec": {
   "display_name": "Python 3",
   "language": "python",
   "name": "python3"
  },
  "language_info": {
   "codemirror_mode": {
    "name": "ipython",
    "version": 2
   },
   "file_extension": ".py",
   "mimetype": "text/x-python",
   "name": "python",
   "nbconvert_exporter": "python",
   "pygments_lexer": "ipython2",
   "version": "2.7.6"
  }
 },
 "nbformat": 4,
 "nbformat_minor": 0
}