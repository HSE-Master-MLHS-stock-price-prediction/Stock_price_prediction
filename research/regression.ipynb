{
 "cells": [
  {
   "cell_type": "code",
   "execution_count": 2,
   "metadata": {
    "collapsed": true,
    "pycharm": {
     "name": "#%%\n"
    }
   },
   "outputs": [],
   "source": [
    "import yfinance as yf"
   ]
  },
  {
   "cell_type": "code",
   "execution_count": 3,
   "outputs": [],
   "source": [
    "aapl = yf.Ticker(\"AAPL\")"
   ],
   "metadata": {
    "collapsed": false,
    "pycharm": {
     "name": "#%%\n"
    }
   }
  },
  {
   "cell_type": "code",
   "execution_count": 4,
   "outputs": [
    {
     "name": "stdout",
     "output_type": "stream",
     "text": [
      "[*********************100%***********************]  1 of 1 completed\n"
     ]
    }
   ],
   "source": [
    "data = yf.download(\"AAPL\", interval=\"1d\", start=\"1999-12-31\", end=\"2014-12-31\")"
   ],
   "metadata": {
    "collapsed": false,
    "pycharm": {
     "name": "#%%\n"
    }
   }
  },
  {
   "cell_type": "code",
   "execution_count": 6,
   "outputs": [
    {
     "data": {
      "text/plain": "Date\n1999-12-30     0.895647\n1999-12-31     0.917969\n2000-01-03     0.999442\n2000-01-04     0.915179\n2000-01-05     0.928571\n                ...    \n2014-12-23    28.135000\n2014-12-24    28.002501\n2014-12-26    28.497499\n2014-12-29    28.477501\n2014-12-30    28.129999\nName: Close, Length: 3774, dtype: float64"
     },
     "execution_count": 6,
     "metadata": {},
     "output_type": "execute_result"
    }
   ],
   "source": [
    "data[\"Close\"]"
   ],
   "metadata": {
    "collapsed": false,
    "pycharm": {
     "name": "#%%\n"
    }
   }
  },
  {
   "cell_type": "code",
   "execution_count": 7,
   "outputs": [
    {
     "name": "stdout",
     "output_type": "stream",
     "text": [
      "[*********************100%***********************]  1 of 1 completed\n"
     ]
    }
   ],
   "source": [
    "data = yf.download(\"YNDX\", interval=\"1d\", start=\"1999-12-31\", end=\"2016-12-31\")"
   ],
   "metadata": {
    "collapsed": false,
    "pycharm": {
     "name": "#%%\n"
    }
   }
  },
  {
   "cell_type": "code",
   "execution_count": 10,
   "outputs": [],
   "source": [
    "series = data[\"Close\"]"
   ],
   "metadata": {
    "collapsed": false,
    "pycharm": {
     "name": "#%%\n"
    }
   }
  },
  {
   "cell_type": "code",
   "execution_count": 17,
   "outputs": [],
   "source": [
    "import pandas as pd\n",
    "import numpy as np\n",
    "def transform_to_DOIU(prices):\n",
    "    arr = pd.DataFrame(prices)[0].pct_change().to_numpy()[1:]\n",
    "    x = [1]\n",
    "    for el in arr:\n",
    "        x.append(x[-1]*(1+el))\n",
    "    return np.array(x)\n"
   ],
   "metadata": {
    "collapsed": false,
    "pycharm": {
     "name": "#%%\n"
    }
   }
  },
  {
   "cell_type": "code",
   "execution_count": 18,
   "outputs": [],
   "source": [
    "tr_series = transform_to_DOIU(series.values)"
   ],
   "metadata": {
    "collapsed": false,
    "pycharm": {
     "name": "#%%\n"
    }
   }
  },
  {
   "cell_type": "code",
   "execution_count": 22,
   "outputs": [],
   "source": [],
   "metadata": {
    "collapsed": false,
    "pycharm": {
     "name": "#%%\n"
    }
   }
  },
  {
   "cell_type": "code",
   "execution_count": 27,
   "outputs": [],
   "source": [
    "OUTPUT_WINDOW_SIZE = 30\n",
    "INPUT_WINDOW_SIZE = 60\n",
    "prices = series.values\n",
    "\n",
    "X = []\n",
    "y = []\n",
    "for i in range(0, len(prices), OUTPUT_WINDOW_SIZE):\n",
    "\n",
    "    tr_x = transform_to_DOIU(prices[i:INPUT_WINDOW_SIZE+i\n",
    "                                    + OUTPUT_WINDOW_SIZE])\n",
    "    y.append(tr_x[-1])\n",
    "    X.append(tr_x[:INPUT_WINDOW_SIZE])\n",
    "\n",
    "X = X[:-1]\n",
    "y = y[:-1]"
   ],
   "metadata": {
    "collapsed": false,
    "pycharm": {
     "name": "#%%\n"
    }
   }
  },
  {
   "cell_type": "code",
   "execution_count": 30,
   "outputs": [
    {
     "data": {
      "text/plain": "(47, 47)"
     },
     "execution_count": 30,
     "metadata": {},
     "output_type": "execute_result"
    }
   ],
   "source": [
    "len(X), len(y)"
   ],
   "metadata": {
    "collapsed": false,
    "pycharm": {
     "name": "#%%\n"
    }
   }
  },
  {
   "cell_type": "code",
   "execution_count": null,
   "outputs": [],
   "source": [
    "def prepare_data(prices, OUTPUT_WINDOW_SIZE = 30, INPUT_WINDOW_SIZE = 60):\n",
    "    X = []\n",
    "    y = []\n",
    "    for i in range(0, len(prices), OUTPUT_WINDOW_SIZE):\n",
    "\n",
    "        tr_x = transform_to_DOIU(prices[i:INPUT_WINDOW_SIZE+i\n",
    "                                        + OUTPUT_WINDOW_SIZE])\n",
    "        y.append(tr_x[-1])\n",
    "        X.append(tr_x[:INPUT_WINDOW_SIZE])\n",
    "\n",
    "        X = X[:-1]\n",
    "        y = y[:-1]"
   ],
   "metadata": {
    "collapsed": false,
    "pycharm": {
     "name": "#%%\n",
     "is_executing": true
    }
   }
  },
  {
   "cell_type": "code",
   "execution_count": 31,
   "outputs": [
    {
     "data": {
      "text/plain": "[0.5818743638692778,\n 0.7317715565014165,\n 0.6752367877228687,\n 1.0703812609234398,\n 0.9299138272763696,\n 1.1980503158379516,\n 0.8383017153388045,\n 0.8009162581808059,\n 1.0367744765143432,\n 1.1679957436008244,\n 1.1651469233374343,\n 0.9638554656038548,\n 1.0958663292488058,\n 0.9361007087170011,\n 1.1060542349589042,\n 1.2409108515332197,\n 1.59184670313487,\n 1.4830638744491766,\n 1.2313674416212879,\n 1.3598875683168716,\n 0.9728671832547442,\n 0.7917857581995655,\n 0.7107692470211946,\n 0.9721767468082602,\n 0.9629506429598585,\n 0.9806937119470365,\n 0.7769209387882162,\n 0.6231484576199038,\n 0.5316326638517915,\n 0.5476190579167941,\n 1.068888876173231,\n 1.1433203030828911,\n 1.004840919407991,\n 0.5881451409488754,\n 0.7739130655924485,\n 1.0993955985081194,\n 1.0785525462767729,\n 1.0414110401405472,\n 1.0423148922270862,\n 1.6571668023500838,\n 1.5571226691473867,\n 1.3349168253292256,\n 1.0947102833570543,\n 0.8069777848759607,\n 0.9141437103215665,\n 0.9388991912005755,\n 1.1018061661959366]"
     },
     "execution_count": 31,
     "metadata": {},
     "output_type": "execute_result"
    }
   ],
   "source": [],
   "metadata": {
    "collapsed": false,
    "pycharm": {
     "name": "#%%\n"
    }
   }
  },
  {
   "cell_type": "code",
   "execution_count": null,
   "outputs": [],
   "source": [],
   "metadata": {
    "collapsed": false,
    "pycharm": {
     "name": "#%%\n",
     "is_executing": true
    }
   }
  },
  {
   "cell_type": "code",
   "execution_count": null,
   "outputs": [],
   "source": [],
   "metadata": {
    "collapsed": false,
    "pycharm": {
     "name": "#%%\n",
     "is_executing": true
    }
   }
  },
  {
   "cell_type": "code",
   "execution_count": 30,
   "outputs": [],
   "source": [],
   "metadata": {
    "collapsed": false,
    "pycharm": {
     "name": "#%%\n"
    }
   }
  }
 ],
 "metadata": {
  "kernelspec": {
   "display_name": "Python 3",
   "language": "python",
   "name": "python3"
  },
  "language_info": {
   "codemirror_mode": {
    "name": "ipython",
    "version": 2
   },
   "file_extension": ".py",
   "mimetype": "text/x-python",
   "name": "python",
   "nbconvert_exporter": "python",
   "pygments_lexer": "ipython2",
   "version": "2.7.6"
  }
 },
 "nbformat": 4,
 "nbformat_minor": 0
}